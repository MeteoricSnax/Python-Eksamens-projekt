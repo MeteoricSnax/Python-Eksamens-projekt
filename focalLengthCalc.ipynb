{
 "cells": [
  {
   "cell_type": "markdown",
   "metadata": {},
   "source": [
    "# this is the focal length finder\n",
    "to use this, you need to know what the size of the circle and the length from the camera the picture you input, was taken from."
   ]
  },
  {
   "cell_type": "code",
   "execution_count": null,
   "metadata": {},
   "outputs": [],
   "source": [
    "import numpy as np\n",
    "import cv2\n",
    "import sys\n",
    "\n",
    "def radiusFinder(imgPath, distance, circleDiameter):\n",
    "#     This reads the image and converts it to gray-scale.\n",
    "    frame = cv2.imread(imgPath)\n",
    "    gray = cv2.cvtColor(frame, cv2.COLOR_BGR2GRAY)\n",
    "    \n",
    "#     Blurs the image and finds circles in the image\n",
    "    gray = cv2.medianBlur(gray, 5)\n",
    "    circles = cv2.HoughCircles(gray, cv2.HOUGH_GRADIENT, 1, gray.shape[0] / 8,\n",
    "                           param1=100, param2=30,\n",
    "                           minRadius=1, maxRadius=600)\n",
    "    if circles is not None:\n",
    "        circles = np.uint16(np.around(circles))\n",
    "        for i in circles[0, :]:\n",
    "            #circle radius\n",
    "            radius = i[2]\n",
    "            print(imgPath + \" has the pixel radius of: \" + str(radius) + \" pixels\"\n",
    "             + \"\\n and the focal length of the camera is: \" + str((radius * distance) / circleDiameter))\n",
    "            \n",
    "\n",
    "# all these measurements are to be made in cm's. \n",
    "circleSize = 10\n",
    "\n",
    "# These are images taken from a lenovo legion y520 webcam\n",
    "radiusFinder(\"distance250.jpg\", 25, circleSize)\n",
    "radiusFinder(\"distance500.jpg\", 50, circleSize)\n",
    "radiusFinder(\"distance1000.jpg\", 100, circleSize)\n",
    "print(\"this has been found to be most precise at the distance of 100cm,\" \n",
    "      + \" as when calculating the expected result\" \n",
    "      + \"\\n we are given the most presice answer when comparing to this method.\")"
   ]
  }
 ],
 "metadata": {
  "kernelspec": {
   "display_name": "Python 3",
   "language": "python",
   "name": "python3"
  },
  "language_info": {
   "codemirror_mode": {
    "name": "ipython",
    "version": 3
   },
   "file_extension": ".py",
   "mimetype": "text/x-python",
   "name": "python",
   "nbconvert_exporter": "python",
   "pygments_lexer": "ipython3",
   "version": "3.7.1"
  }
 },
 "nbformat": 4,
 "nbformat_minor": 2
}
