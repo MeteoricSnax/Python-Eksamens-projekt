{
 "cells": [
  {
   "cell_type": "markdown",
   "metadata": {},
   "source": [
    "# Cirkel detector exam project\n",
    "\n",
    " - kunne finde en cirkel i webcamet / Find the circle in the webcam\n",
    "\n",
    " - kunne finde afstanden af en cirkel med den samme diameter, ud fra dens størrelse i webcamet / find the distance to the circle (the circle has a peticular diameter)\n",
    "\n",
    " - kunne tegne en sti efter et objektet / Draw the path of the circle\n",
    "\n",
    " - kunne finde hvilken retning et objekt bevæger sig / Find the direktion the circle is moving\n",
    "\n",
    " - kombinere alt dette / combine all of this"
   ]
  },
  {
   "cell_type": "code",
   "execution_count": null,
   "metadata": {},
   "outputs": [],
   "source": [
    "import numpy as np\n",
    "import cv2\n",
    "import sys\n",
    "\n",
    "video_capture = cv2.VideoCapture(0)\n",
    "\n",
    "while True:\n",
    "    # Capture frame-by-frame\n",
    "    ret, frame = video_capture.read()\n",
    "    if ret:\n",
    "        \n",
    "        #TODO: see points above this cell!!!!\n",
    "        \n",
    "        \n",
    "        cv2.imshow('Video', frame)\n",
    "\n",
    "    if cv2.waitKey(1) & 0xFF == ord('q'):\n",
    "        break\n",
    "\n",
    "# When everything is done, release the capture\n",
    "video_capture.release()\n",
    "cv2.destroyAllWindows()"
   ]
  }
 ],
 "metadata": {
  "kernelspec": {
   "display_name": "Python 3",
   "language": "python",
   "name": "python3"
  },
  "language_info": {
   "codemirror_mode": {
    "name": "ipython",
    "version": 3
   },
   "file_extension": ".py",
   "mimetype": "text/x-python",
   "name": "python",
   "nbconvert_exporter": "python",
   "pygments_lexer": "ipython3",
   "version": "3.7.1"
  }
 },
 "nbformat": 4,
 "nbformat_minor": 2
}
